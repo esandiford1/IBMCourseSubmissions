{
 "cells": [
  {
   "cell_type": "markdown",
   "id": "c2a3870b-64a0-471d-9362-5420ded13fba",
   "metadata": {},
   "source": [
    "# Data Science Tools and Ecosystem"
   ]
  },
  {
   "cell_type": "markdown",
   "id": "269026cd-7ba8-4ebb-a9f7-9418eaf66bc1",
   "metadata": {},
   "source": [
    "**Objectives:**\n",
    "* List popular languages for Data Science\n",
    "* Create ordered lists\n",
    "* Run simple calculations\n",
    "* List common languages in Data Science"
   ]
  },
  {
   "cell_type": "markdown",
   "id": "95ef62a0-8af7-45c6-be53-d35199d963cd",
   "metadata": {},
   "source": [
    "In this notebook, Data Science Tools and Ecosystem are summarized."
   ]
  },
  {
   "cell_type": "markdown",
   "id": "6ee42f2c-7d4e-493c-9b8b-8c6cb52fbc32",
   "metadata": {},
   "source": [
    "Some of the popular languages that Data Scientists use are:\n",
    " 1. Pyhton\n",
    " 2. R\n",
    " 3. Julia"
   ]
  },
  {
   "cell_type": "markdown",
   "id": "29d5425b-b69c-48c7-b060-17396c060437",
   "metadata": {},
   "source": [
    "Some of the commonly used libraries used by Data Scientists include:\n",
    "1. numpy\n",
    "2. scikit-learn\n",
    "3. keras\n",
    "4. tensor flow"
   ]
  },
  {
   "cell_type": "markdown",
   "id": "df475f81-3a32-49e7-907e-81f0cf2819e9",
   "metadata": {},
   "source": [
    "| Data Science Tools |\n",
    "|----|\n",
    "| Apache Hadoop |\n",
    "| GitHub  |\n",
    "| PowerBI   |"
   ]
  },
  {
   "cell_type": "markdown",
   "id": "fd6582ae-4093-47d7-8b7a-3b3ec9d76809",
   "metadata": {},
   "source": [
    "### Below are a few examples of evaluating arithmetic expressions in Python"
   ]
  },
  {
   "cell_type": "code",
   "execution_count": 4,
   "id": "bf3a6be6-abd8-4f9e-a7fa-d83a604b5fbe",
   "metadata": {
    "tags": []
   },
   "outputs": [
    {
     "data": {
      "text/plain": [
       "17"
      ]
     },
     "execution_count": 4,
     "metadata": {},
     "output_type": "execute_result"
    }
   ],
   "source": [
    "#This a simple arithmetic expression to mutiply then add integers\n",
    "(3*4)+5"
   ]
  },
  {
   "cell_type": "code",
   "execution_count": 5,
   "id": "f657f7ae-c8ff-4f74-8d63-d513c83f8fbb",
   "metadata": {
    "tags": []
   },
   "outputs": [
    {
     "data": {
      "text/plain": [
       "3.3333333333333335"
      ]
     },
     "execution_count": 5,
     "metadata": {},
     "output_type": "execute_result"
    }
   ],
   "source": [
    "#This will convert 200 minutes to hours by diving by 60\n",
    "200/60"
   ]
  },
  {
   "cell_type": "markdown",
   "id": "952dda81-29ed-4f5f-abf6-9d2b949cde88",
   "metadata": {},
   "source": [
    "## Author\n",
    "Elston Sandiford"
   ]
  },
  {
   "cell_type": "code",
   "execution_count": null,
   "id": "36f72eeb-b65b-457e-a278-35b7d474e8c7",
   "metadata": {},
   "outputs": [],
   "source": []
  }
 ],
 "metadata": {
  "kernelspec": {
   "display_name": "Python 3 (ipykernel)",
   "language": "python",
   "name": "python3"
  },
  "language_info": {
   "codemirror_mode": {
    "name": "ipython",
    "version": 3
   },
   "file_extension": ".py",
   "mimetype": "text/x-python",
   "name": "python",
   "nbconvert_exporter": "python",
   "pygments_lexer": "ipython3",
   "version": "3.11.5"
  }
 },
 "nbformat": 4,
 "nbformat_minor": 5
}
